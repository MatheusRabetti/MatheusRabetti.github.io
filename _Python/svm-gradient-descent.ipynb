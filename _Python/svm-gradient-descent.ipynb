{
 "cells": [
  {
   "cell_type": "markdown",
   "metadata": {},
   "source": [
    "# Machine Learning for Big Data"
   ]
  },
  {
   "cell_type": "markdown",
   "metadata": {},
   "source": [
    "## Main ways to train a machine learning model\n",
    "\n",
    "There are three popular ways to train a model: batch learning, mini-batch learning, and stochastic learning.\n",
    "\n",
    "* **Batch Learning :** In the first mode, we store all the training data in an array and feed it to the algorithm, reducing the loss function based on all the examples at once. This is not always possible due to the size of the dataset. In these cases we have to resort to the two other ways.\n",
    "* **Mini-Batch Learning :** In this case, we select a N number of examples and divide the training set into blocks of this size. So we train the model in one block at a time.\n",
    "* **Stochastic learning :** this is a variation of the mini-batch, but with N = 1. We use only one example at a time to train the model. This is the preferred mode in big data solutions.\n",
    "\n",
    "And we have two main divisions:\n",
    "\n",
    "* **Offline :** In this case we have all the data stored in a database, but it does not fit in memory, so we need to train on one example (or batch) at a time.\n",
    "* **Online :** In this case we receive the examples in real time, we train and we discard, without the need to store them.\n",
    "\n",
    "In addition to not having to load all the data in memory to train the model, in some cases, using algorithms that train on one example at a time may be faster than the format that uses all the data at the same time.\n"
   ]
  },
  {
   "cell_type": "markdown",
   "metadata": {},
   "source": [
    "## Support Vector Machine - SVM\n",
    "\n",
    "There are multiple ways to classify data with machine learning. You could run a logistic regression, use decision trees, or build a neural network to accomplish the task. In 1963, Vladimir Vapnik and Alexey Chervonenkis developed another classification tool, the support vector machine. Vapnik refined this classification method in the 1990’s and extended uses for SVMs. Support vector machines have become a great tool for the data scientist and is my choice in this exercise.\n",
    "\n",
    "SVMs try to find a hyperplane, which maximizes the margin between two classes. The margin is the distance between the hyperplane and a few close points. These close points are the support vectors because they control the hyperplane.\n",
    "\n",
    "Furthermore there is a short introduction of SVM in the following article:\n",
    "\n",
    "[Understanding Support Vector Machine algorithm from examples](https://www.analyticsvidhya.com/blog/2017/09/understaing-support-vector-machine-example-code/)"
   ]
  },
  {
   "cell_type": "markdown",
   "metadata": {},
   "source": [
    "## Stochastic Gradient Descent\n",
    "\n",
    "To start explaning from scratch a for dummy concept helps. \n",
    "\n",
    "Lets say you are about to start a business that sells t-shirts, but you are unsure what are the best measures for a medium sized one for males. Luckily you have gathered a group of men that have all stated they tend to buy medium sized t-shirts. Now you figure you're going to use a gradient descent type method t get the size just right.\n",
    "\n",
    "#### Batch Gradient Descent\n",
    "1. Tailor makes initial estimate.\n",
    "2. Each person in the batch gets to try the t-shirt and write down feedback.\n",
    "3. Collect and summarize all feedback.\n",
    "4. If the feedback suggests a change, let the tailor adjust the t-shirt and go to 2.\n",
    "\n",
    "#### Stochastic Gradient Descent\n",
    "1. Tailor makes initial estimate.\n",
    "2. A random guy (or a subset of the full group) tries the t-shirt and gives feedback.\n",
    "3. Make a small adjustment according to feedback.\n",
    "4. While you still have time for this, go to 2.\n",
    "\n",
    "#### Highlighting the differences\n",
    "\n",
    "* Batch gradient descent needs to collect lots of feedback before making adjustments, but needs to do fewer adjustments.\n",
    "* Stochastic gradient descent makes many small adjustments, but spends less time collecting feedback in between.\n",
    "* Batch gradient descent preferable if the full population is small, stochastic gradient descent preferable if the full population is very large.\n",
    "* Batch gradient descent methods can be made parallel if you have access to more hardware (in this case, more tailors and materials) as you can collect all feedback in parallel.\n",
    "* Stochastic gradient descent does not readily lend itself to parallelization as the you need the feedback from one iteration to proceed with the next iteration.\n",
    "\n",
    "A gradient is the ratio by which a variable quantity increases or decreases. The adjusments according to the feedback are this variation. The feedback can be de error function. The gradient of a scalar function is the co-vector with the direction according to which the highest rate of change of function occurs. Its modulus is equal to the rate of function variation along that direction.\n",
    "\n",
    "In both batch gradient descent (GD) and stochastic gradient descent (SGD), you update a set of parameters in an iterative manner to minimize the error function.\n",
    "\n",
    "While in GD, you have to run through **all** the samples in your training set to do a single update for a parameter in a particular iteration, in SGD, on the other hand, you use **only one** training sample from your training set to do the update for a parameter in a particular iteration.\n",
    "\n",
    "Thus, if the number of training samples are large, in fact very large, then using gradient descent may take too long because in every iteration when you are updating the values of the parameters, you are running through the complete training set. On the other hand, using SGD will be faster because you use only one training sample and it starts improving itself right away from the first sample.\n",
    "\n",
    "That difference explains the stochastic process, instead of describing the system through deterministic equations, that given an initial condition, we know all the evolution of the system, we will use stochastic processes, for which, given an initial condition, we still have several possible trajectories evolution of the system.\n",
    "\n",
    "SGD minimizes a function by following the gradients of the cost function. "
   ]
  },
  {
   "cell_type": "markdown",
   "metadata": {
    "deletable": true,
    "editable": true
   },
   "source": [
    "### Calculating the Error \n",
    "\n",
    "To calculate the error of a prediction we first need to define the objective function of the svm. "
   ]
  },
  {
   "cell_type": "markdown",
   "metadata": {
    "deletable": true,
    "editable": true
   },
   "source": [
    "#### Hinge Loss Function\n",
    "\n",
    "To do this, we need to define the loss function, to calculate the prediction error. We will use hinge loss! \n",
    "\n",
    "The hinge loss is a loss function used for training classifiers. The hinge loss is used for \"maximum-margin\" classification.\n",
    "\n",
    "$$c(x, y, f(x)) = (1 - y * f(x))_+$$"
   ]
  },
  {
   "cell_type": "markdown",
   "metadata": {
    "deletable": true,
    "editable": true
   },
   "source": [
    "$c$ is the loss function, $x$ the sample, $y$ is the true label, $f(x)$ the predicted label.\n",
    "\n",
    "This means the following:\n",
    "$$\n",
    "c(x, y, f(x))= \n",
    "\\begin{cases}\n",
    "    0,& \\text{if } y*f(x)\\geq 1\\\\\n",
    "    1-y*f(x),              & \\text{else}\n",
    "\\end{cases}\n",
    "$$"
   ]
  },
  {
   "cell_type": "markdown",
   "metadata": {
    "deletable": true,
    "editable": true
   },
   "source": [
    "So consider, if y and f(x) are signed values $(+1,-1)$:\n",
    "\n",
    "<ul>\n",
    "    <li>the loss is 0, if $y*f(x)$ are positive, respective both values have the same sign.</li>\n",
    "    <li>loss is $1-y*f(x)$ if $y*f(x)$ is negative</li>\n",
    "</ul>"
   ]
  },
  {
   "cell_type": "markdown",
   "metadata": {
    "deletable": true,
    "editable": true
   },
   "source": [
    "#### Objective Function \n",
    "\n",
    "As we defined the loss function, we can now define the objective function for the svm:"
   ]
  },
  {
   "cell_type": "markdown",
   "metadata": {
    "deletable": true,
    "editable": true
   },
   "source": [
    "$$\\underset{w}{min}\\ \\lambda\\parallel w\\parallel^2 + \\ \\sum_{i=1}^n\\big(1-y_i \\langle x_i,w \\rangle\\big)_+$$"
   ]
  },
  {
   "cell_type": "markdown",
   "metadata": {
    "deletable": true,
    "editable": true
   },
   "source": [
    "As you can see, our objective of a svm consists of two terms. The first term is a regularizer, the second term the loss. The regularizer parameter $\\lambda$ determines the tradeoff between increasing the margin-size and ensuring that the $x_i$ lie on the correct side of the margin balancing margin maximization and loss.\n",
    "\n",
    "#### Derive the Objective Function\n",
    "\n",
    "To minimize this function, we need the gradients of this function.\n",
    "\n",
    "As we have two terms, we will derive them seperately using the sum rule in differentiation.\n",
    "\n",
    "$$\n",
    "\\frac{\\delta}{\\delta w_k} \\lambda\\parallel w\\parallel^2 \\ = 2 \\lambda w_k\n",
    "$$\n",
    "\n",
    "$$\n",
    "\\frac{\\delta}{\\delta w_k} \\big(1-y_i \\langle x_i,w \\rangle\\big)_+ \\ = \\begin{cases}\n",
    "    0,& \\text{if } y_i \\langle x_i,w \\rangle\\geq 1\\\\\n",
    "    -y_ix_{ik},              & \\text{else}\n",
    "\\end{cases}\n",
    "$$"
   ]
  },
  {
   "cell_type": "markdown",
   "metadata": {
    "deletable": true,
    "editable": true
   },
   "source": [
    "This means, if we have a misclassified sample $x_i$, respectively $y_i \\langle x_i,w \\rangle \\ < \\ 1$, we update the weight vector w using the gradients of both terms, if $y_i \\langle x_i,w \\rangle \\geq 1$ we just update w by the gradient of the regularizer. To sum it up, our stochastic gradient descent for the svm looks like this:"
   ]
  },
  {
   "cell_type": "markdown",
   "metadata": {
    "deletable": true,
    "editable": true
   },
   "source": [
    "if $y_i⟨x_i,w⟩ < 1$:\n",
    "$$\n",
    "w = w + \\alpha (y_ix_i - 2\\lambda w)\n",
    "$$\n",
    "else:\n",
    "$$\n",
    "w = w + \\alpha (-2\\lambda w)\n",
    "$$"
   ]
  },
  {
   "cell_type": "markdown",
   "metadata": {},
   "source": [
    "In Python language we can write like this:"
   ]
  },
  {
   "cell_type": "code",
   "execution_count": 37,
   "metadata": {},
   "outputs": [
    {
     "name": "stdout",
     "output_type": "stream",
     "text": [
      "\n"
     ]
    }
   ],
   "source": [
    "def __init__(self,lmbd,D):\n",
    "    self.lmbd = lmbd \n",
    "    self.D = D + 1 \n",
    "    self.w = [0.] * self.D \n",
    "\n",
    "def sign(self, x):\n",
    "    return -1. if x <= 0 else 1.\n",
    "\n",
    "def hinge_loss(self,target,y):\n",
    "    return max(0, 1 - target*y)\n",
    "\n",
    "def train(self,x,y,alpha):\n",
    "    if y*self.predict(x) < 1:\n",
    "\n",
    "        for i in xrange(len(x)):\n",
    "            self.w[i] =  self.w[i] + alpha *( (y*x[i]) + (-2 * (self.lmbd)*self.w[i]) )\n",
    "\n",
    "    else:\n",
    "        for i in xrange(len(x)):\n",
    "            self.w[i] = self.w[i] + alpha * (-2 * (self.lmbd)*self.w[i])"
   ]
  },
  {
   "cell_type": "markdown",
   "metadata": {
    "deletable": true,
    "editable": true
   },
   "source": [
    "## Dataset\n",
    "\n",
    "This article will use the [Skin Segmentation Data](https://archive.ics.uci.edu/ml/datasets/Skin+Segmentation) Set that can be downloaded from the UCI database. This data refers to a classification task in which RGB values of random points are extracted from the face picture of a person, and the task is to determine, according to these values, whether that point corresponds to the skin or another part of the image.\n",
    "\n",
    "According to the researchers, images of people from various ages, races and genres were collected. A practical application of this task would be to identify images with inappropriate content for minors on the internet.\n",
    "\n",
    "This dataset is of the dimension 245057 * 4 where first three columns are B,G,R (x1,x2, and x3 features) values and fourth column is a binary classification."
   ]
  },
  {
   "cell_type": "markdown",
   "metadata": {},
   "source": [
    "### Evaluation of the result\n",
    "\n",
    "In a real online environment, one way to evaluate the performance of the model would be to calculate the loss before predicting a new example and averaging in a time window. This method is called progressive validation.\n",
    "\n",
    "In our case, we are simulating an online environment, and to make the model more effective, I will use a separate test set with 20% of the data.\n",
    "\n",
    "The files *train.csv* and *test.csv* each contains approximately 20% positive examples, so in addition to loss, I want to evaluate the number of correct answers and errors in each class (real positives and true negatives).\n",
    "\n",
    "The training set has 196,129 examples, and the test set, 48,928. We will use each example of the training set only once, and then evaluate the performance of the model in the test set.\n",
    "\n",
    "Since we are not going to use this test set to adjust hyperparameters, it is a legitimate estimate of the model’s performance in new examples. If you are going to use it to validate parameters, you will need another test set."
   ]
  },
  {
   "cell_type": "code",
   "execution_count": 67,
   "metadata": {
    "collapsed": true,
    "deletable": true,
    "editable": true
   },
   "outputs": [],
   "source": [
    "import numpy as np\n",
    "import pandas as pd\n",
    "from matplotlib import pyplot as plt\n",
    "%matplotlib inline\n",
    "\n",
    "from random import shuffle"
   ]
  },
  {
   "cell_type": "code",
   "execution_count": 3,
   "metadata": {},
   "outputs": [],
   "source": [
    "url = \"https://archive.ics.uci.edu/ml/machine-learning-databases/00229/Skin_NonSkin.txt\" \n",
    "data = pd.read_csv(url, header = None, sep='\\t')\n",
    "\n",
    "np.random.seed(1)\n",
    "\n",
    "msk = np.random.rand(len(data)) < 0.8\n",
    "data[msk].to_csv('svm-gradient-descent/train.csv', header=False, index=False)\n",
    "data[~msk].to_csv('svm-gradient-descent/test.csv', header=False, index=False)"
   ]
  },
  {
   "cell_type": "markdown",
   "metadata": {},
   "source": [
    "With data splited we should start building our model!"
   ]
  },
  {
   "cell_type": "markdown",
   "metadata": {
    "deletable": true,
    "editable": true
   },
   "source": [
    "## Lets Start implementing Stochastic Gradient Descent \n"
   ]
  },
  {
   "cell_type": "code",
   "execution_count": 163,
   "metadata": {},
   "outputs": [],
   "source": [
    "class SVM():\n",
    "    \"\"\"Implementation of SVM with SGD\"\"\"\n",
    "    \n",
    "    def __init__(self,lmbd,D):\n",
    "        self.lmbd = lmbd \n",
    "        self.D = D + 1 \n",
    "        self.w = [0.] * self.D \n",
    "\n",
    "    def sign(self, x):\n",
    "        return -1. if x <= 0 else 1.\n",
    "\n",
    "    def hinge_loss(self,target,y):\n",
    "        return max(0, 1 - target*y)\n",
    "\n",
    "    def data(self,test=False):\n",
    "        if test:\n",
    "            with open('svm-gradient-descent/test.csv','r') as f:\n",
    "                samples = f.readlines()\n",
    "\n",
    "                for t,row in enumerate(samples):\n",
    "\n",
    "                    row = row.replace('\\n','')\n",
    "                    row = row.split(',')\n",
    "\n",
    "                    target = -1.\n",
    "\n",
    "                    if row[3] == '1':\n",
    "                        target = 1.\n",
    "                    del row[3]\n",
    "\n",
    "                    x = [float(c) for c in row] + [1.] #inputs + bias\n",
    "\n",
    "                    yield t, x,target\n",
    "\n",
    "        else:\n",
    "\n",
    "            with open('svm-gradient-descent/train.csv','r') as f:\n",
    "                samples = f.readlines()\n",
    "                shuffle(samples)\n",
    "\n",
    "                for t,row in enumerate(samples):\n",
    "\n",
    "                    row = row.replace('\\n','')\n",
    "                    row = row.split(',')\n",
    "\n",
    "                    target = -1.\n",
    "\n",
    "                    if row[3] == '1':\n",
    "                        target = 1.\n",
    "                    del row[3]\n",
    "\n",
    "                    x = [float(c) for c in row] + [1.] #inputs + bias\n",
    "\n",
    "                    yield t, x,target\n",
    "                    \n",
    "    def train(self,x,y,alpha):\n",
    "        if y*self.predict(x) < 1:\n",
    "\n",
    "            for i in xrange(len(x)):\n",
    "                self.w[i] =  self.w[i] + alpha *( (y*x[i]) + (-2 * (self.lmbd)*self.w[i]) )                \n",
    "\n",
    "        else:\n",
    "            for i in xrange(len(x)):\n",
    "                self.w[i] = self.w[i] + alpha * (-2 * (self.lmbd)*self.w[i])\n",
    "        \n",
    "        return self.w\n",
    "                \n",
    "    def predict(self,x):\n",
    "        wTx = 0.\n",
    "        for i in xrange(len(x)):\n",
    "\n",
    "            wTx += self.w[i]*x[i]\n",
    "\n",
    "        return wTx\n",
    "    \n",
    "    def fit(self):\n",
    "        test_count = 0.\n",
    "        \n",
    "        tn = 0.\n",
    "        tp = 0.\n",
    "        \n",
    "        total_positive = 0.\n",
    "        total_negative = 0.\n",
    "\n",
    "        accuracy = 0.\n",
    "        loss = 0.\n",
    "        \n",
    "        \n",
    "        last = 0\n",
    "        for t, x,target in self.data(test=False):\n",
    "            \n",
    "            if target == last: \n",
    "                continue\n",
    "            \n",
    "            alpha = 1./(self.lmbd*(t+1.))\n",
    "            w = self.train(x,target,alpha)\n",
    "            last = target\n",
    "    \n",
    "        for t,x,target in self.data(test=True):\n",
    "            \n",
    "            pred = self.predict(x)\n",
    "            loss += self.hinge_loss(target,pred)\n",
    "            \n",
    "            pred = self.sign(pred)\n",
    "            \n",
    "            \n",
    "            if target == 1:\n",
    "                total_positive += 1.\n",
    "            else:\n",
    "                total_negative += 1.\n",
    "            \n",
    "            if pred == target:\n",
    "                accuracy += 1.\n",
    "                if pred == 1:\n",
    "                    tp += 1.\n",
    "                else:\n",
    "                    tn += 1.\n",
    "            \n",
    "        loss = loss / (total_positive+total_negative)\n",
    "        acc = accuracy/(total_positive+total_negative)\n",
    "        \n",
    "        # print 'Loss', loss, '\\nTrue Negatives', tn/total_negative * 100, '%', '\\nTrue Positives', tp/total_positive * 100, '%','\\nPrecision', accuracy/(total_positive+total_negative) * 100, '%', '\\n'\n",
    "    \n",
    "        return loss, acc, tp/total_positive,tn/total_negative, w"
   ]
  },
  {
   "cell_type": "code",
   "execution_count": 167,
   "metadata": {},
   "outputs": [
    {
     "name": "stdout",
     "output_type": "stream",
     "text": [
      "Loss 0.336361424342\n",
      "Accuracy 93.1521419228 %\n",
      "True Positives 99.6179310345 %\n",
      "True Negatives 91.4597452164 %\n"
     ]
    }
   ],
   "source": [
    "loss_list = []\n",
    "acc_list = []\n",
    "tp_list = []\n",
    "tn_list = []\n",
    "w_list = []\n",
    "\n",
    "for i in range(100):\n",
    "    \n",
    "    #print '\\nSeed',i\n",
    "    \n",
    "    np.random.seed(i)\n",
    "    \n",
    "    svm = SVM(1,3)\n",
    "\n",
    "    l,acc,tp,tn,w = svm.fit()\n",
    "\n",
    "    loss_list.append(l)\n",
    "    acc_list.append(acc)\n",
    "    tp_list.append(tp)\n",
    "    tn_list.append(tn)\n",
    "    w_list.append(w)\n",
    "\n",
    "print 'Loss', sum(loss_list)/len(loss_list)\n",
    "print 'Accuracy', sum(acc_list)/len(acc_list) * 100, '%'\n",
    "print 'True Positives', sum(tp_list)/len(tp_list) * 100, '%'\n",
    "print 'True Negatives',sum(tn_list)/len(tn_list) * 100, '%'"
   ]
  },
  {
   "cell_type": "markdown",
   "metadata": {},
   "source": [
    "#### Last epoch results:"
   ]
  },
  {
   "cell_type": "code",
   "execution_count": 168,
   "metadata": {},
   "outputs": [
    {
     "name": "stdout",
     "output_type": "stream",
     "text": [
      "Loss 0.319685882105\n",
      "Accuracy 93.5803629823 %\n",
      "True Positives 100.0 %\n",
      "True Negatives 91.9000464181 %\n"
     ]
    }
   ],
   "source": [
    "print 'Loss', loss_list[-1]\n",
    "print 'Accuracy', acc_list[-1] * 100, '%'\n",
    "print 'True Positives', tp_list[-1] * 100, '%'\n",
    "print 'True Negatives', tn_list[-1] * 100, '%'"
   ]
  },
  {
   "cell_type": "markdown",
   "metadata": {},
   "source": [
    "**Weight vector**"
   ]
  },
  {
   "cell_type": "code",
   "execution_count": 169,
   "metadata": {},
   "outputs": [
    {
     "data": {
      "text/plain": [
       "[-0.012143435142372257,\n",
       " -0.014424186650153442,\n",
       " 0.024160846426260787,\n",
       " -0.02904598219297061]"
      ]
     },
     "execution_count": 169,
     "metadata": {},
     "output_type": "execute_result"
    }
   ],
   "source": [
    "w_list[-1]"
   ]
  },
  {
   "cell_type": "markdown",
   "metadata": {
    "deletable": true,
    "editable": true
   },
   "source": [
    "#### Code Description\n",
    "\n",
    "#### Init  \n",
    "\n",
    "1. SVM model parameters: $\\lambda$ as regularization and $D$ as the number os features plus bias\n",
    "\n",
    "#### Sign  \n",
    "\n",
    "1. Funtion that assigns according to the side of hyperplan\n",
    "\n",
    "#### Hinge Loss\n",
    "\n",
    "1. Function to be minimized\n",
    "\n",
    "#### Data \n",
    "\n",
    "1. Data generator.\n",
    "2. Iterate over each sample in the data set.\n",
    "\n",
    "#### Train \n",
    "\n",
    "1. Misclassification condition $y_i \\langle x_i,w \\rangle < 1$\n",
    "2. Update rule for the weights $w = w + \\alpha (y_ix_i - 2\\lambda w)$ including the learning rate $\\alpha$ and the regularizer $\\lambda$.\n",
    "3. If classified correctly just update the weight vector by the derived regularizer term $w = w + \\alpha (-2\\lambda w)$.\n",
    "4. Save the weight vector.\n",
    "\n",
    "#### Predict \n",
    "\n",
    "1. Calculates the scalar product between the weights and the attributes \n",
    "\n",
    "#### Fit \n",
    "\n",
    "1. Train the SVM and give estimates on the test set\n",
    "2. Ensuring that the next example seen by the algorithm is different from the previous one to improve unbalanced dataset predictions. \n",
    "3. Reporting true positives / negatives. Metrics that are not sensitive to the disproportionate classes. \n",
    "4. The learning parameter $\\alpha$ is regularized as $\\frac{1}{\\lambda (t+1)}$, so this parameter will decrease, as the number of epochs $t$ increases. \n",
    " "
   ]
  },
  {
   "cell_type": "markdown",
   "metadata": {},
   "source": [
    "## Weight Vector"
   ]
  },
  {
   "cell_type": "code",
   "execution_count": 170,
   "metadata": {},
   "outputs": [
    {
     "data": {
      "text/plain": [
       "[-0.012143435142372257,\n",
       " -0.014424186650153442,\n",
       " 0.024160846426260787,\n",
       " -0.02904598219297061]"
      ]
     },
     "execution_count": 170,
     "metadata": {},
     "output_type": "execute_result"
    }
   ],
   "source": [
    "w_list[-1]"
   ]
  },
  {
   "cell_type": "markdown",
   "metadata": {
    "deletable": true,
    "editable": true
   },
   "source": [
    "The weight vector of the SVM including the bias term after 100 epochs is $(-0.012,  -0.0144,  0.024, -0.029)$.\n",
    "We can extract the following prediction function now:\n",
    "\n",
    "$$\n",
    "f(x) = \\langle x,(-0.012,-0.0144,0.024)\\rangle - 0.029\n",
    "$$"
   ]
  },
  {
   "cell_type": "markdown",
   "metadata": {
    "deletable": true,
    "editable": true
   },
   "source": [
    "## Evaluation\n",
    "\n",
    "Lets classify the samples in our data set by hand now, to check how the model learned:"
   ]
  },
  {
   "cell_type": "code",
   "execution_count": 172,
   "metadata": {},
   "outputs": [
    {
     "data": {
      "text/plain": [
       "[-0.012143435142372257,\n",
       " -0.014424186650153442,\n",
       " 0.024160846426260787,\n",
       " -0.02904598219297061]"
      ]
     },
     "execution_count": 172,
     "metadata": {},
     "output_type": "execute_result"
    }
   ],
   "source": [
    "w_list[-1]"
   ]
  },
  {
   "cell_type": "code",
   "execution_count": 176,
   "metadata": {},
   "outputs": [
    {
     "data": {
      "text/plain": [
       "['44,45,11,2\\n',\n",
       " '157,159,129,2\\n',\n",
       " '47,89,142,1\\n',\n",
       " '7,5,0,2\\n',\n",
       " '201,200,162,2\\n',\n",
       " '180,180,132,2\\n',\n",
       " '52,52,16,2\\n',\n",
       " '196,195,161,2\\n',\n",
       " '199,198,160,2\\n',\n",
       " '64,67,28,2\\n']"
      ]
     },
     "execution_count": 176,
     "metadata": {},
     "output_type": "execute_result"
    }
   ],
   "source": [
    "with open('svm-gradient-descent/train.csv','r') as f:\n",
    "    samples = f.readlines()\n",
    "    shuffle(samples)\n",
    "samples[0:10]"
   ]
  },
  {
   "cell_type": "markdown",
   "metadata": {},
   "source": [
    "First sample $(44, 45, 11)$, supposed to be -1:\n",
    "\n",
    "$$(-0.012*44)+(-0.0144*45)+(0.0242*11) - 0.029 = sign(-0.9388) = -1$$\n",
    "\n",
    "Second sample $(157, 159, 129)$, supposed to be -1:\n",
    "\n",
    "$$(-0.012*157)+(-0.0144*159)+(0.0242*129) - 0.029 = sign(-1.0808) = -1$$\n",
    "\n",
    "Third sample $(47, 89, 142)$, supposed to be 1:\n",
    "\n",
    "$$(-0.012*47)+(-0.0144*89)+(0.0242*142) - 0.029 = sign(1.5618) = 1$$\n",
    "\n",
    "\n",
    "All example samples are classified right."
   ]
  },
  {
   "cell_type": "markdown",
   "metadata": {
    "deletable": true,
    "editable": true
   },
   "source": [
    "## Fonts\n",
    "\n",
    "* An Introduction to Statistical Learning - book\n",
    "* [Matheus Facure - blog](https://matheusfacure.github.io/2017/02/20/MQO-Gradiente-Descendente/)\n",
    "* [Mavi - blog](https://maviccprp.github.io/a-support-vector-machine-in-just-a-few-lines-of-python-code/)\n",
    "* [Sandipanweb](https://sandipanweb.wordpress.com/2018/04/29/implementing-pegasos-primal-estimated-sub-gradient-solver-for-svm-using-it-for-sentiment-classification-and-switching-to-logistic-regression-objective-by-changing-the-loss-function-in-python/)"
   ]
  }
 ],
 "metadata": {
  "kernelspec": {
   "display_name": "Python 2",
   "language": "python",
   "name": "python2"
  },
  "language_info": {
   "codemirror_mode": {
    "name": "ipython",
    "version": 2
   },
   "file_extension": ".py",
   "mimetype": "text/x-python",
   "name": "python",
   "nbconvert_exporter": "python",
   "pygments_lexer": "ipython2",
   "version": "2.7.14"
  }
 },
 "nbformat": 4,
 "nbformat_minor": 2
}
